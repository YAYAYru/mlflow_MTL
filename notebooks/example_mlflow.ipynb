{
 "cells": [
  {
   "cell_type": "code",
   "execution_count": 7,
   "id": "21dfc355",
   "metadata": {
    "scrolled": true
   },
   "outputs": [
    {
     "name": "stdout",
     "output_type": "stream",
     "text": [
      "Requirement already satisfied: mlflow in /home/yayay/yayay/git/github/paper_mlflow/venv/lib/python3.8/site-packages (1.20.2)\n",
      "Requirement already satisfied: pandas in /home/yayay/yayay/git/github/paper_mlflow/venv/lib/python3.8/site-packages (from mlflow) (1.5.2)\n",
      "Requirement already satisfied: click>=7.0 in /home/yayay/yayay/git/github/paper_mlflow/venv/lib/python3.8/site-packages (from mlflow) (8.1.3)\n",
      "Requirement already satisfied: entrypoints in /home/yayay/yayay/git/github/paper_mlflow/venv/lib/python3.8/site-packages (from mlflow) (0.4)\n",
      "Requirement already satisfied: alembic<=1.4.1 in /home/yayay/yayay/git/github/paper_mlflow/venv/lib/python3.8/site-packages (from mlflow) (1.4.1)\n",
      "Requirement already satisfied: databricks-cli>=0.8.7 in /home/yayay/yayay/git/github/paper_mlflow/venv/lib/python3.8/site-packages (from mlflow) (0.17.4)\n",
      "Requirement already satisfied: gunicorn; platform_system != \"Windows\" in /home/yayay/yayay/git/github/paper_mlflow/venv/lib/python3.8/site-packages (from mlflow) (20.1.0)\n",
      "Requirement already satisfied: pytz in /home/yayay/yayay/git/github/paper_mlflow/venv/lib/python3.8/site-packages (from mlflow) (2022.7)\n",
      "Requirement already satisfied: cloudpickle in /home/yayay/yayay/git/github/paper_mlflow/venv/lib/python3.8/site-packages (from mlflow) (2.2.0)\n",
      "Requirement already satisfied: sqlparse>=0.3.1 in /home/yayay/yayay/git/github/paper_mlflow/venv/lib/python3.8/site-packages (from mlflow) (0.4.3)\n",
      "Requirement already satisfied: requests>=2.17.3 in /home/yayay/yayay/git/github/paper_mlflow/venv/lib/python3.8/site-packages (from mlflow) (2.28.1)\n",
      "Requirement already satisfied: querystring-parser in /home/yayay/yayay/git/github/paper_mlflow/venv/lib/python3.8/site-packages (from mlflow) (1.2.4)\n",
      "Requirement already satisfied: Flask in /home/yayay/yayay/git/github/paper_mlflow/venv/lib/python3.8/site-packages (from mlflow) (2.2.2)\n",
      "Requirement already satisfied: docker>=4.0.0 in /home/yayay/yayay/git/github/paper_mlflow/venv/lib/python3.8/site-packages (from mlflow) (6.0.1)\n",
      "Requirement already satisfied: pyyaml>=5.1 in /home/yayay/yayay/git/github/paper_mlflow/venv/lib/python3.8/site-packages (from mlflow) (6.0)\n",
      "Requirement already satisfied: importlib-metadata!=4.7.0,>=3.7.0 in /home/yayay/yayay/git/github/paper_mlflow/venv/lib/python3.8/site-packages (from mlflow) (5.2.0)\n",
      "Requirement already satisfied: numpy in /home/yayay/yayay/git/github/paper_mlflow/venv/lib/python3.8/site-packages (from mlflow) (1.24.1)\n",
      "Requirement already satisfied: protobuf>=3.7.0 in /home/yayay/yayay/git/github/paper_mlflow/venv/lib/python3.8/site-packages (from mlflow) (4.21.12)\n",
      "Requirement already satisfied: packaging in /home/yayay/yayay/git/github/paper_mlflow/venv/lib/python3.8/site-packages (from mlflow) (21.3)\n",
      "Requirement already satisfied: sqlalchemy in /home/yayay/yayay/git/github/paper_mlflow/venv/lib/python3.8/site-packages (from mlflow) (1.4.46)\n",
      "Requirement already satisfied: gitpython>=2.1.0 in /home/yayay/yayay/git/github/paper_mlflow/venv/lib/python3.8/site-packages (from mlflow) (3.1.30)\n",
      "Requirement already satisfied: prometheus-flask-exporter in /home/yayay/yayay/git/github/paper_mlflow/venv/lib/python3.8/site-packages (from mlflow) (0.21.0)\n",
      "Requirement already satisfied: python-dateutil>=2.8.1 in /home/yayay/yayay/git/github/paper_mlflow/venv/lib/python3.8/site-packages (from pandas->mlflow) (2.8.2)\n",
      "Requirement already satisfied: Mako in /home/yayay/yayay/git/github/paper_mlflow/venv/lib/python3.8/site-packages (from alembic<=1.4.1->mlflow) (1.2.4)\n",
      "Requirement already satisfied: python-editor>=0.3 in /home/yayay/yayay/git/github/paper_mlflow/venv/lib/python3.8/site-packages (from alembic<=1.4.1->mlflow) (1.0.4)\n",
      "Requirement already satisfied: tabulate>=0.7.7 in /home/yayay/yayay/git/github/paper_mlflow/venv/lib/python3.8/site-packages (from databricks-cli>=0.8.7->mlflow) (0.9.0)\n",
      "Requirement already satisfied: pyjwt>=1.7.0 in /home/yayay/yayay/git/github/paper_mlflow/venv/lib/python3.8/site-packages (from databricks-cli>=0.8.7->mlflow) (2.6.0)\n",
      "Requirement already satisfied: six>=1.10.0 in /home/yayay/yayay/git/github/paper_mlflow/venv/lib/python3.8/site-packages (from databricks-cli>=0.8.7->mlflow) (1.16.0)\n",
      "Requirement already satisfied: oauthlib>=3.1.0 in /home/yayay/yayay/git/github/paper_mlflow/venv/lib/python3.8/site-packages (from databricks-cli>=0.8.7->mlflow) (3.2.2)\n",
      "Requirement already satisfied: setuptools>=3.0 in /home/yayay/yayay/git/github/paper_mlflow/venv/lib/python3.8/site-packages (from gunicorn; platform_system != \"Windows\"->mlflow) (44.0.0)\n",
      "Requirement already satisfied: certifi>=2017.4.17 in /home/yayay/yayay/git/github/paper_mlflow/venv/lib/python3.8/site-packages (from requests>=2.17.3->mlflow) (2022.12.7)\n",
      "Requirement already satisfied: idna<4,>=2.5 in /home/yayay/yayay/git/github/paper_mlflow/venv/lib/python3.8/site-packages (from requests>=2.17.3->mlflow) (3.4)\n",
      "Requirement already satisfied: charset-normalizer<3,>=2 in /home/yayay/yayay/git/github/paper_mlflow/venv/lib/python3.8/site-packages (from requests>=2.17.3->mlflow) (2.1.1)\n",
      "Requirement already satisfied: urllib3<1.27,>=1.21.1 in /home/yayay/yayay/git/github/paper_mlflow/venv/lib/python3.8/site-packages (from requests>=2.17.3->mlflow) (1.26.13)\n",
      "Requirement already satisfied: Werkzeug>=2.2.2 in /home/yayay/yayay/git/github/paper_mlflow/venv/lib/python3.8/site-packages (from Flask->mlflow) (2.2.2)\n",
      "Requirement already satisfied: Jinja2>=3.0 in /home/yayay/yayay/git/github/paper_mlflow/venv/lib/python3.8/site-packages (from Flask->mlflow) (3.1.2)\n",
      "Requirement already satisfied: itsdangerous>=2.0 in /home/yayay/yayay/git/github/paper_mlflow/venv/lib/python3.8/site-packages (from Flask->mlflow) (2.1.2)\n",
      "Requirement already satisfied: websocket-client>=0.32.0 in /home/yayay/yayay/git/github/paper_mlflow/venv/lib/python3.8/site-packages (from docker>=4.0.0->mlflow) (1.4.2)\n",
      "Requirement already satisfied: zipp>=0.5 in /home/yayay/yayay/git/github/paper_mlflow/venv/lib/python3.8/site-packages (from importlib-metadata!=4.7.0,>=3.7.0->mlflow) (3.11.0)\n",
      "Requirement already satisfied: pyparsing!=3.0.5,>=2.0.2 in /home/yayay/yayay/git/github/paper_mlflow/venv/lib/python3.8/site-packages (from packaging->mlflow) (3.0.9)\n",
      "Requirement already satisfied: greenlet!=0.4.17; python_version >= \"3\" and (platform_machine == \"aarch64\" or (platform_machine == \"ppc64le\" or (platform_machine == \"x86_64\" or (platform_machine == \"amd64\" or (platform_machine == \"AMD64\" or (platform_machine == \"win32\" or platform_machine == \"WIN32\")))))) in /home/yayay/yayay/git/github/paper_mlflow/venv/lib/python3.8/site-packages (from sqlalchemy->mlflow) (2.0.1)\n",
      "Requirement already satisfied: gitdb<5,>=4.0.1 in /home/yayay/yayay/git/github/paper_mlflow/venv/lib/python3.8/site-packages (from gitpython>=2.1.0->mlflow) (4.0.10)\n",
      "Requirement already satisfied: prometheus-client in /home/yayay/yayay/git/github/paper_mlflow/venv/lib/python3.8/site-packages (from prometheus-flask-exporter->mlflow) (0.15.0)\n",
      "Requirement already satisfied: MarkupSafe>=0.9.2 in /home/yayay/yayay/git/github/paper_mlflow/venv/lib/python3.8/site-packages (from Mako->alembic<=1.4.1->mlflow) (2.1.1)\n",
      "Requirement already satisfied: smmap<6,>=3.0.1 in /home/yayay/yayay/git/github/paper_mlflow/venv/lib/python3.8/site-packages (from gitdb<5,>=4.0.1->gitpython>=2.1.0->mlflow) (5.0.0)\n"
     ]
    }
   ],
   "source": [
    "!pip install mlflow"
   ]
  },
  {
   "cell_type": "code",
   "execution_count": 13,
   "id": "c5869c41",
   "metadata": {},
   "outputs": [],
   "source": [
    "!source ../venv/bin/activate"
   ]
  },
  {
   "cell_type": "code",
   "execution_count": 14,
   "id": "cebe7298",
   "metadata": {},
   "outputs": [
    {
     "ename": "ModuleNotFoundError",
     "evalue": "No module named 'mlflow'",
     "output_type": "error",
     "traceback": [
      "\u001b[0;31m---------------------------------------------------------------------------\u001b[0m",
      "\u001b[0;31mModuleNotFoundError\u001b[0m                       Traceback (most recent call last)",
      "Input \u001b[0;32mIn [14]\u001b[0m, in \u001b[0;36m<cell line: 4>\u001b[0;34m()\u001b[0m\n\u001b[1;32m      2\u001b[0m \u001b[38;5;28;01mimport\u001b[39;00m \u001b[38;5;21;01mnumpy\u001b[39;00m \u001b[38;5;28;01mas\u001b[39;00m \u001b[38;5;21;01mnp\u001b[39;00m\n\u001b[1;32m      3\u001b[0m \u001b[38;5;28;01mfrom\u001b[39;00m \u001b[38;5;21;01msklearn\u001b[39;00m\u001b[38;5;21;01m.\u001b[39;00m\u001b[38;5;21;01mlinear_model\u001b[39;00m \u001b[38;5;28;01mimport\u001b[39;00m LinearRegression\n\u001b[0;32m----> 4\u001b[0m \u001b[38;5;28;01mimport\u001b[39;00m \u001b[38;5;21;01mmlflow\u001b[39;00m\n\u001b[1;32m      5\u001b[0m \u001b[38;5;28;01mfrom\u001b[39;00m \u001b[38;5;21;01mmlflow\u001b[39;00m \u001b[38;5;28;01mimport\u001b[39;00m MlflowClient\n\u001b[1;32m      7\u001b[0m \u001b[38;5;28;01mdef\u001b[39;00m \u001b[38;5;21mfetch_logged_data\u001b[39m(run_id):\n",
      "\u001b[0;31mModuleNotFoundError\u001b[0m: No module named 'mlflow'"
     ]
    }
   ],
   "source": [
    "from pprint import pprint\n",
    "import numpy as np\n",
    "from sklearn.linear_model import LinearRegression\n",
    "import mlflow\n",
    "from mlflow import MlflowClient\n",
    "\n",
    "def fetch_logged_data(run_id):\n",
    "    client = MlflowClient()\n",
    "    data = client.get_run(run_id).data\n",
    "    tags = {k: v for k, v in data.tags.items() if not k.startswith(\"mlflow.\")}\n",
    "    artifacts = [f.path for f in client.list_artifacts(run_id, \"model\")]\n",
    "    return data.params, data.metrics, tags, artifacts\n",
    "\n",
    "# enable autologging\n",
    "mlflow.sklearn.autolog()\n",
    "\n",
    "# prepare training data\n",
    "X = np.array([[1, 1], [1, 2], [2, 2], [2, 3]])\n",
    "y = np.dot(X, np.array([1, 2])) + 3\n",
    "\n",
    "# train a model\n",
    "model = LinearRegression()\n",
    "with mlflow.start_run() as run:\n",
    "    model.fit(X, y)\n",
    "\n",
    "# fetch logged data\n",
    "params, metrics, tags, artifacts = fetch_logged_data(run.info.run_id)\n",
    "\n",
    "pprint(params)\n",
    "# {'copy_X': 'True',\n",
    "#  'fit_intercept': 'True',\n",
    "#  'n_jobs': 'None',\n",
    "#  'normalize': 'False'}\n",
    "\n",
    "pprint(metrics)\n",
    "# {'training_score': 1.0,\n",
    "#    'training_mean_absolute_error': 2.220446049250313e-16,\n",
    "#    'training_mean_squared_error': 1.9721522630525295e-31,\n",
    "#    'training_r2_score': 1.0,\n",
    "#    'training_root_mean_squared_error': 4.440892098500626e-16}\n",
    "\n",
    "pprint(tags)\n",
    "# {'estimator_class': 'sklearn.linear_model._base.LinearRegression',\n",
    "#  'estimator_name': 'LinearRegression'}\n",
    "\n",
    "pprint(artifacts)\n",
    "# ['model/MLmodel', 'model/conda.yaml', 'model/model.pkl']"
   ]
  }
 ],
 "metadata": {
  "kernelspec": {
   "display_name": "Python 3 (ipykernel)",
   "language": "python",
   "name": "python3"
  },
  "language_info": {
   "codemirror_mode": {
    "name": "ipython",
    "version": 3
   },
   "file_extension": ".py",
   "mimetype": "text/x-python",
   "name": "python",
   "nbconvert_exporter": "python",
   "pygments_lexer": "ipython3",
   "version": "3.8.10"
  }
 },
 "nbformat": 4,
 "nbformat_minor": 5
}
