{
 "cells": [
  {
   "cell_type": "code",
   "execution_count": 64,
   "id": "18c5bfc3",
   "metadata": {},
   "outputs": [],
   "source": [
    "import json\n",
    "import tensorflow as tf\n",
    "\n",
    "def generate_binary_labels(y_train, y_test, animal_classes):\n",
    "    y_train_2 = [0 if y in animal_classes else 1 for y in y_train]\n",
    "    y_test_2 = [0 if y in animal_classes else 1 for y in y_test]\n",
    "    return y_train_2, y_test_2\n",
    "\n",
    "(x_train, y_train_1), (x_test, y_test_1) = tf.keras.datasets.cifar10.load_data()\n",
    "\n",
    "y_train_2, y_test_2 = generate_binary_labels(y_train_1, y_test_1, [2, 3, 4, 5, 6, 7])\n",
    "\n",
    "dict_binary_label = {\n",
    "    0: \"animal\",\n",
    "    1: \"vehicle\"\n",
    "}\n",
    "dict_multiclass_label = {\n",
    "    0: \"airplane\", \n",
    "    1: \"automobile\",\n",
    "    2: \"bird\",\n",
    "    3: \"cat\",\n",
    "    4: \"deer\",\n",
    "    5: \"dog\",\n",
    "    6: \"frog\",\n",
    "    7: \"horse\",\n",
    "    8: \"ship\",\n",
    "    9: \"truck\"\n",
    "}"
   ]
  },
  {
   "cell_type": "code",
   "execution_count": 81,
   "id": "415a109f",
   "metadata": {},
   "outputs": [
    {
     "name": "stdout",
     "output_type": "stream",
     "text": [
      "Expected labels:  animal horse\n"
     ]
    },
    {
     "data": {
      "image/png": "[encoded data removed]",
      "text/plain": [
       "<Figure size 432x288 with 1 Axes>"
      ]
     },
     "metadata": {
      "needs_background": "light"
     },
     "output_type": "display_data"
    }
   ],
   "source": [
    "import requests\n",
    "import numpy as np\n",
    "import random\n",
    "import matplotlib.pyplot as plt\n",
    "\n",
    "random_ind = random.randrange(0, x_test.shape[0], 1)\n",
    "image = x_test[random_ind,:,:,:]\n",
    "plt.imshow(image)\n",
    "print(\n",
    "    'Expected labels: ',\n",
    "    dict_binary_label[y_test_2[random_ind]],\n",
    "    dict_multiclass_label[y_test_1[random_ind][0]]\n",
    ")\n",
    "\n",
    "np_image1 = image.reshape(1, image.shape[0], image.shape[1], image.shape[2])\n",
    "j = {\"instances\": np_image1.tolist()}"
   ]
  },
  {
   "cell_type": "code",
   "execution_count": 82,
   "id": "e7b49daf",
   "metadata": {},
   "outputs": [
    {
     "name": "stdout",
     "output_type": "stream",
     "text": [
      "200\n",
      "predicted labels: animal\n"
     ]
    }
   ],
   "source": [
    "r1 = requests.post('http://0.0.0.0:8001/invocations', json=j)\n",
    "print(r1.status_code)\n",
    "dict_r1 = r1.json()\n",
    "print(\n",
    "    \"predicted labels:\",\n",
    "    dict_binary_label[np.argmax(dict_r1[\"predictions\"][0])],\n",
    ")"
   ]
  },
  {
   "cell_type": "code",
   "execution_count": 83,
   "id": "9e18f8c9",
   "metadata": {},
   "outputs": [
    {
     "name": "stdout",
     "output_type": "stream",
     "text": [
      "200\n",
      "predicted labels: horse\n"
     ]
    }
   ],
   "source": [
    "r2 = requests.post('http://0.0.0.0:8002/invocations', json=j)\n",
    "print(r2.status_code)\n",
    "dict_r2 = r2.json()\n",
    "\n",
    "print(\n",
    "    \"predicted labels:\",\n",
    "    dict_multiclass_label[np.argmax(dict_r2[\"predictions\"][0])]\n",
    ")"
   ]
  }
 ],
 "metadata": {
  "kernelspec": {
   "display_name": "Python 3 (ipykernel)",
   "language": "python",
   "name": "python3"
  },
  "language_info": {
   "codemirror_mode": {
    "name": "ipython",
    "version": 3
   },
   "file_extension": ".py",
   "mimetype": "text/x-python",
   "name": "python",
   "nbconvert_exporter": "python",
   "pygments_lexer": "ipython3",
   "version": "3.8.10"
  }
 },
 "nbformat": 4,
 "nbformat_minor": 5
}
